{
 "cells": [
  {
   "cell_type": "code",
   "execution_count": 38,
   "id": "4dab3642-5cc7-4348-86d8-ee6efc3fb177",
   "metadata": {},
   "outputs": [],
   "source": [
    "def second_chance(page_frames, pages):\n",
    "    digit_count = sum(char.isdigit() for char in pages)\n",
    "    page_faults = 0\n",
    "    clock_hand = 0\n",
    "    frames = [-1] * page_frames  # Initialize frames as empty (-1 represents an empty frame)\n",
    "    frame_referenced = [False] * page_frames\n",
    "    \n",
    "    for page_num in pages.split():\n",
    "        page_num = int(page_num)\n",
    "        if page_num in frames:\n",
    "            # Page already in frames, mark as referenced\n",
    "            frame_index = frames.index(page_num)\n",
    "            frame_referenced[frame_index] = True\n",
    "        else:\n",
    "            page_faults += 1\n",
    "            while True:\n",
    "                if not frame_referenced[clock_hand]:\n",
    "                    # Replace page in this frame\n",
    "                    frames[clock_hand] = page_num\n",
    "                    frame_referenced[clock_hand] = True\n",
    "                    clock_hand = (clock_hand + 1) % page_frames\n",
    "                    break\n",
    "                else:\n",
    "                    # Give the page a second chance\n",
    "                    frame_referenced[clock_hand] = False\n",
    "                    clock_hand = (clock_hand + 1) % page_frames\n",
    "\n",
    "    return page_faults,digit_count-page_faults\n",
    "\n"
   ]
  }
 ],
 "metadata": {
  "kernelspec": {
   "display_name": "Python 3 (ipykernel)",
   "language": "python",
   "name": "python3"
  },
  "language_info": {
   "codemirror_mode": {
    "name": "ipython",
    "version": 3
   },
   "file_extension": ".py",
   "mimetype": "text/x-python",
   "name": "python",
   "nbconvert_exporter": "python",
   "pygments_lexer": "ipython3",
   "version": "3.9.12"
  }
 },
 "nbformat": 4,
 "nbformat_minor": 5
}
